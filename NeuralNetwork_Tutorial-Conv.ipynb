{
  "cells": [
    {
      "cell_type": "markdown",
      "metadata": {
        "id": "ZZ2NJ4_lq-V4"
      },
      "source": [
        "# Convolutional Neural Network tutorial\n",
        "\n",
        "This is an example of how neural networks can be used to categorize images.  The test images are the MNIST collection of handwritten digits, and we will train a network to recognized hand-written digits.  Other sets of data are available.\n",
        "\n",
        "### Import packages and dataset\n",
        "Alternative datasets are cifar10 and cifar100."
      ]
    },
    {
      "cell_type": "code",
      "execution_count": null,
      "metadata": {
        "id": "ThyRTtpyq-V5"
      },
      "outputs": [],
      "source": [
        "%matplotlib inline\n",
        "from tensorflow.keras.datasets import mnist, cifar10, cifar100\n",
        "from tensorflow.keras import layers\n",
        "import tensorflow.keras as keras\n",
        "import numpy as np\n",
        "import matplotlib.pyplot as plt"
      ]
    },
    {
      "cell_type": "markdown",
      "metadata": {
        "id": "wxWfhoqNq-V5"
      },
      "source": [
        "### Look at the dataset\n",
        "Data scientists always start by visualizing their data - avoid surprises later."
      ]
    },
    {
      "cell_type": "code",
      "execution_count": null,
      "metadata": {
        "id": "HSBKlSsrq-V5"
      },
      "outputs": [],
      "source": [
        "#data = mnist.load_data()   # MNIST will not work with this network - missing color\n",
        "                            # channel, dimensions not divisible by 4.\n",
        "data = cifar10.load_data()\n",
        "#data = cifar100.load_data()\n",
        "\n",
        "(train_images, train_labels), (test_images, test_labels) = data\n",
        "ntrain = len(train_images)\n",
        "imgsize = train_images.shape[1:]\n",
        "print(\"Training set: {} images of shape {}\".format(ntrain, str(imgsize)))\n",
        "print(\"Labels have shape\", train_labels.shape)\n",
        "num_categories = train_labels.max() + 1\n",
        "print(\"Number of categories:\", num_categories)\n",
        "\n",
        "# For CIFAR data the shape is (N, 1), change to (N,)\n",
        "if len(train_labels.shape) == 2:\n",
        "    assert train_labels.shape[-1] == 1\n",
        "    train_labels.shape = (-1,)\n",
        "    test_labels.shape = (-1,)"
      ]
    },
    {
      "cell_type": "markdown",
      "metadata": {
        "id": "GTkMr4VYq-V7"
      },
      "source": [
        "For CICAR-10 data, the categories can be found at https://www.cs.toronto.edu/~kriz/cifar.html"
      ]
    },
    {
      "cell_type": "code",
      "execution_count": null,
      "metadata": {
        "id": "BGRpVIL0q-V7"
      },
      "outputs": [],
      "source": [
        "nplot = 10\n",
        "rnd = np.random.randint(ntrain, size=(nplot,))\n",
        "fig, axes = plt.subplots(1, nplot, figsize=(12,12/nplot))\n",
        "for i in range(nplot):\n",
        "    axes[i].imshow(train_images[rnd[i]], cmap='gray')\n",
        "    axes[i].axis('off')\n",
        "print(train_labels[rnd])"
      ]
    },
    {
      "cell_type": "markdown",
      "metadata": {
        "id": "P7-1G_JUq-V9"
      },
      "source": [
        "The neural network expects floating point numbers of order unity.  The image data comes as integers (probably from 0 to 255), we convert it to floats in the range 0.0 - 1.0."
      ]
    },
    {
      "cell_type": "code",
      "execution_count": null,
      "metadata": {
        "id": "M_G0gT2Dq-V9"
      },
      "outputs": [],
      "source": [
        "print(train_images.min(), train_images.max())\n",
        "maxval = train_images.max()\n",
        "train_images = train_images.astype(np.float32) / maxval\n",
        "test_images = test_images.astype(np.float32) / maxval"
      ]
    },
    {
      "cell_type": "markdown",
      "metadata": {
        "id": "20FZEMo6q-V-"
      },
      "source": [
        "### Define a function creating the neural network\n",
        "Make multiple functions to be able to experiment with multiple architectures.\n",
        "\n",
        "Note:\n",
        "* Useful values for ``activation``: 'sigmoid', 'tanh', 'relu', None\n",
        "* Useful values for ``padding``: 'valid', 'same'\n"
      ]
    },
    {
      "cell_type": "code",
      "execution_count": null,
      "metadata": {
        "id": "DuCQPS0lq-V-"
      },
      "outputs": [],
      "source": [
        "def make_minimalnet(categories, input_shape, hiddenneurons=200):\n",
        "    network = keras.models.Sequential()\n",
        "    # The first layer needs to know the size of the input.\n",
        "    # The following layers infer their size from the previous layer.\n",
        "    network.add(layers.Conv2D(32, 5, input_shape=input_shape,\n",
        "               activation='sigmoid', padding='same'))\n",
        "    network.add(layers.MaxPooling2D(pool_size=2))\n",
        "    network.add(layers.Conv2D(32, 5,\n",
        "               activation='sigmoid', padding='same'))\n",
        "    network.add(layers.Flatten())\n",
        "    network.add(layers.Dense(hiddenneurons, activation='sigmoid'))\n",
        "    network.add(layers.Dense(categories, activation='softmax'))\n",
        "    return network"
      ]
    },
    {
      "cell_type": "markdown",
      "metadata": {
        "id": "4B9_WbNHq-V_"
      },
      "source": [
        "### Train the network"
      ]
    },
    {
      "cell_type": "code",
      "execution_count": null,
      "metadata": {
        "id": "APQCTdRBq-V_"
      },
      "outputs": [],
      "source": [
        "net = make_minimalnet(num_categories, imgsize)\n",
        "net.summary()"
      ]
    },
    {
      "cell_type": "code",
      "execution_count": null,
      "metadata": {
        "id": "xjcrMOhbq-V_"
      },
      "outputs": [],
      "source": [
        "net.compile(optimizer='rmsprop',\n",
        "            loss='categorical_crossentropy',\n",
        "            metrics=['accuracy'])\n",
        "# The labels should be one-hot encoded.\n",
        "train_labels_onehot = keras.utils.to_categorical(train_labels)"
      ]
    },
    {
      "cell_type": "code",
      "execution_count": null,
      "metadata": {
        "id": "CbPfB6tUq-WA"
      },
      "outputs": [],
      "source": [
        "net.fit(train_images, train_labels_onehot, epochs=20, batch_size=128)"
      ]
    },
    {
      "cell_type": "markdown",
      "metadata": {
        "id": "hhugrMFfq-WA"
      },
      "source": [
        "### Test the network on the testset.\n",
        "\n",
        "We let Keras run the network on the test set, and evaluate the results"
      ]
    },
    {
      "cell_type": "code",
      "execution_count": null,
      "metadata": {
        "id": "Pr1LOWCuq-WA"
      },
      "outputs": [],
      "source": [
        "test_labels_onehot = keras.utils.to_categorical(test_labels)\n",
        "test_loss, test_acc = net.evaluate(test_images, test_labels_onehot)\n",
        "print('Test set accuracy:', test_acc)\n"
      ]
    },
    {
      "cell_type": "markdown",
      "metadata": {
        "id": "NySZM_f6q-WA"
      },
      "source": [
        "### Show some of the failures\n",
        "\n",
        "We run the network on the test data again, this time keeping the results and looking at them"
      ]
    },
    {
      "cell_type": "code",
      "execution_count": null,
      "metadata": {
        "id": "S3GuJqzGq-WC"
      },
      "outputs": [],
      "source": [
        "results =  net.predict(test_images)"
      ]
    },
    {
      "cell_type": "markdown",
      "metadata": {
        "id": "BV1HyvCmq-WC"
      },
      "source": [
        "The output is a matrix of probabilities.  Each row contains the probabilities that the image belongs to each of the ten classes.  Let us look at the first five"
      ]
    },
    {
      "cell_type": "code",
      "execution_count": null,
      "metadata": {
        "id": "7ks5bHkvq-WC"
      },
      "outputs": [],
      "source": [
        "with np.printoptions(precision=4, suppress=True):\n",
        "    print(results[:5])"
      ]
    },
    {
      "cell_type": "markdown",
      "metadata": {
        "id": "pQq0gfyyq-WC"
      },
      "source": [
        "Convert this into predictions: find the most probable class for each image."
      ]
    },
    {
      "cell_type": "code",
      "execution_count": null,
      "metadata": {
        "id": "Hrp0rPIeq-WC"
      },
      "outputs": [],
      "source": [
        "predicted_class = np.argmax(results, axis=1)\n",
        "predicted_class.shape"
      ]
    },
    {
      "cell_type": "code",
      "execution_count": null,
      "metadata": {
        "id": "RHqHHHNPq-WC"
      },
      "outputs": [],
      "source": [
        "n_error = (test_labels != predicted_class).sum()\n",
        "print(\"There are {} errors.\".format(n_error))"
      ]
    },
    {
      "cell_type": "markdown",
      "metadata": {
        "id": "SvkgKgm3q-WD"
      },
      "source": [
        "Find five failures.  Show them."
      ]
    },
    {
      "cell_type": "code",
      "execution_count": null,
      "metadata": {
        "id": "Q5s-eNjNq-WD"
      },
      "outputs": [],
      "source": [
        "failures = np.argsort(test_labels != predicted_class)[-n_error:]"
      ]
    },
    {
      "cell_type": "code",
      "execution_count": null,
      "metadata": {
        "id": "owx7rBptq-WD"
      },
      "outputs": [],
      "source": [
        "nshow = 5\n",
        "fig, axes = plt.subplots(1, nshow, figsize=(12,12/nplot))\n",
        "\n",
        "for i, f in enumerate(failures[:nshow]):\n",
        "    axes[i].imshow(test_images[f],cmap='gray')\n",
        "    axes[i].axis('off')\n",
        "    print(\"{}:  Predicted: {}  Correct class: {}\".format(\n",
        "        f, predicted_class[f], test_labels[f]))"
      ]
    },
    {
      "cell_type": "code",
      "execution_count": null,
      "metadata": {
        "id": "4ALgS34Uq-WE"
      },
      "outputs": [],
      "source": []
    },
    {
      "cell_type": "code",
      "execution_count": null,
      "metadata": {
        "id": "e0_05dAHq-WE"
      },
      "outputs": [],
      "source": []
    }
  ],
  "metadata": {
    "kernelspec": {
      "display_name": "Python 3",
      "name": "python3"
    },
    "language_info": {
      "codemirror_mode": {
        "name": "ipython",
        "version": 3
      },
      "file_extension": ".py",
      "mimetype": "text/x-python",
      "name": "python",
      "nbconvert_exporter": "python",
      "pygments_lexer": "ipython3",
      "version": "3.9.4"
    },
    "colab": {
      "provenance": [],
      "gpuType": "T4"
    },
    "accelerator": "GPU"
  },
  "nbformat": 4,
  "nbformat_minor": 0
}